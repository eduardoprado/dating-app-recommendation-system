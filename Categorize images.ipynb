{
 "cells": [
  {
   "cell_type": "code",
   "execution_count": 85,
   "id": "2d54c1e6",
   "metadata": {},
   "outputs": [],
   "source": [
    "import numpy as np\n",
    "import os, random\n",
    "from PIL import Image\n",
    "import tensorflow as tf\n",
    "import matplotlib.pyplot as plt\n",
    "import gender_guesser.detector as gender_detector"
   ]
  },
  {
   "cell_type": "code",
   "execution_count": 77,
   "id": "6778a7e4",
   "metadata": {},
   "outputs": [],
   "source": [
    "LIKE_PATH = os.path.join('data', 'like')\n",
    "DISLIKE_PATH = os.path.join('data', 'dislike')\n",
    "LFW_DIR = 'lfw'"
   ]
  },
  {
   "cell_type": "code",
   "execution_count": 10,
   "id": "c207004c",
   "metadata": {},
   "outputs": [],
   "source": [
    "from sklearn.datasets import fetch_lfw_pairsd"
   ]
  },
  {
   "cell_type": "code",
   "execution_count": 12,
   "id": "270a199d",
   "metadata": {},
   "outputs": [],
   "source": [
    "lfw = fetch_lfw_pairs(subset = 'test', color = True, resize=1)"
   ]
  },
  {
   "cell_type": "code",
   "execution_count": 78,
   "id": "2b7e9aa5",
   "metadata": {},
   "outputs": [],
   "source": [
    "d = gender_detector.Detector()\n",
    "male = 0\n",
    "female = 0\n",
    "undeterminate = 0\n",
    "male_pictures = 0\n",
    "female_pictures = 0\n",
    "undeterminate_pictures = 0"
   ]
  },
  {
   "cell_type": "code",
   "execution_count": 92,
   "id": "4a9f4eb3",
   "metadata": {},
   "outputs": [],
   "source": [
    "# Save user in like or dislike folder\n",
    "def save_user_swipe(username, directory):\n",
    "    swipe = None\n",
    "    file_path = random.choice(os.listdir(directory))\n",
    "    print(file_path)\n",
    "    img = Image.open(os.path.join(directory, file_path))\n",
    "    img.show()\n",
    "    while swipe != 'l' and swipe != 'd':\n",
    "        swipe = input(\"What do you think of this person?\")\n",
    "        if swipe == 'l':\n",
    "            print(username, 'saved on like')\n",
    "        elif swipe == 'd':\n",
    "            print(username, 'saved on dislike')\n",
    "        else:\n",
    "            print('Invalid input - type l for like and d for dislike')"
   ]
  },
  {
   "cell_type": "code",
   "execution_count": 93,
   "id": "5231c733",
   "metadata": {
    "scrolled": true
   },
   "outputs": [
    {
     "name": "stdout",
     "output_type": "stream",
     "text": [
      "German_Khan_0001.jpg\n",
      "What do you think of this person?l\n",
      "User saved on like\n",
      "Stefano_Gabbana_0001.jpg\n",
      "What do you think of this person?l\n",
      "User saved on like\n",
      "Dragan_Covic_0001.jpg\n"
     ]
    },
    {
     "name": "stderr",
     "output_type": "stream",
     "text": [
      "Traceback (most recent call last):\n",
      "  File \"<string>\", line 1, in <module>\n",
      "Traceback (most recent call last):\n",
      "  File \"<string>\", line 1, in <module>\n",
      "KeyboardInterrupt\n",
      "KeyboardInterrupt\n"
     ]
    },
    {
     "ename": "KeyboardInterrupt",
     "evalue": "Interrupted by user",
     "output_type": "error",
     "traceback": [
      "\u001b[0;31m---------------------------------------------------------------------------\u001b[0m",
      "\u001b[0;31mKeyboardInterrupt\u001b[0m                         Traceback (most recent call last)",
      "Cell \u001b[0;32mIn [93], line 20\u001b[0m\n\u001b[1;32m     18\u001b[0m     \u001b[38;5;28mprint\u001b[39m(\u001b[38;5;124m'\u001b[39m\u001b[38;5;124mgender fail\u001b[39m\u001b[38;5;124m'\u001b[39m, gender)\n\u001b[1;32m     19\u001b[0m \u001b[38;5;66;03m#print(username, gender)\u001b[39;00m\n\u001b[0;32m---> 20\u001b[0m \u001b[43msave_user_swipe\u001b[49m\u001b[43m(\u001b[49m\u001b[43musername\u001b[49m\u001b[43m,\u001b[49m\u001b[43m \u001b[49m\u001b[43mos\u001b[49m\u001b[38;5;241;43m.\u001b[39;49m\u001b[43mpath\u001b[49m\u001b[38;5;241;43m.\u001b[39;49m\u001b[43mjoin\u001b[49m\u001b[43m(\u001b[49m\u001b[43mLFW_DIR\u001b[49m\u001b[43m,\u001b[49m\u001b[43m \u001b[49m\u001b[43mdirectory\u001b[49m\u001b[43m)\u001b[49m\u001b[43m)\u001b[49m\n",
      "Cell \u001b[0;32mIn [92], line 9\u001b[0m, in \u001b[0;36msave_user_swipe\u001b[0;34m(username, directory)\u001b[0m\n\u001b[1;32m      7\u001b[0m img\u001b[38;5;241m.\u001b[39mshow()\n\u001b[1;32m      8\u001b[0m \u001b[38;5;28;01mwhile\u001b[39;00m swipe \u001b[38;5;241m!=\u001b[39m \u001b[38;5;124m'\u001b[39m\u001b[38;5;124ml\u001b[39m\u001b[38;5;124m'\u001b[39m \u001b[38;5;129;01mand\u001b[39;00m swipe \u001b[38;5;241m!=\u001b[39m \u001b[38;5;124m'\u001b[39m\u001b[38;5;124md\u001b[39m\u001b[38;5;124m'\u001b[39m:\n\u001b[0;32m----> 9\u001b[0m     swipe \u001b[38;5;241m=\u001b[39m \u001b[38;5;28;43minput\u001b[39;49m\u001b[43m(\u001b[49m\u001b[38;5;124;43m\"\u001b[39;49m\u001b[38;5;124;43mWhat do you think of this person?\u001b[39;49m\u001b[38;5;124;43m\"\u001b[39;49m\u001b[43m)\u001b[49m\n\u001b[1;32m     10\u001b[0m     \u001b[38;5;28;01mif\u001b[39;00m swipe \u001b[38;5;241m==\u001b[39m \u001b[38;5;124m'\u001b[39m\u001b[38;5;124ml\u001b[39m\u001b[38;5;124m'\u001b[39m:\n\u001b[1;32m     11\u001b[0m         \u001b[38;5;28mprint\u001b[39m(\u001b[38;5;124m'\u001b[39m\u001b[38;5;124mUser saved on like\u001b[39m\u001b[38;5;124m'\u001b[39m)\n",
      "File \u001b[0;32m/opt/homebrew/Caskroom/miniforge/base/envs/tensorflow/lib/python3.9/site-packages/ipykernel/kernelbase.py:1177\u001b[0m, in \u001b[0;36mKernel.raw_input\u001b[0;34m(self, prompt)\u001b[0m\n\u001b[1;32m   1173\u001b[0m \u001b[38;5;28;01mif\u001b[39;00m \u001b[38;5;129;01mnot\u001b[39;00m \u001b[38;5;28mself\u001b[39m\u001b[38;5;241m.\u001b[39m_allow_stdin:\n\u001b[1;32m   1174\u001b[0m     \u001b[38;5;28;01mraise\u001b[39;00m StdinNotImplementedError(\n\u001b[1;32m   1175\u001b[0m         \u001b[38;5;124m\"\u001b[39m\u001b[38;5;124mraw_input was called, but this frontend does not support input requests.\u001b[39m\u001b[38;5;124m\"\u001b[39m\n\u001b[1;32m   1176\u001b[0m     )\n\u001b[0;32m-> 1177\u001b[0m \u001b[38;5;28;01mreturn\u001b[39;00m \u001b[38;5;28;43mself\u001b[39;49m\u001b[38;5;241;43m.\u001b[39;49m\u001b[43m_input_request\u001b[49m\u001b[43m(\u001b[49m\n\u001b[1;32m   1178\u001b[0m \u001b[43m    \u001b[49m\u001b[38;5;28;43mstr\u001b[39;49m\u001b[43m(\u001b[49m\u001b[43mprompt\u001b[49m\u001b[43m)\u001b[49m\u001b[43m,\u001b[49m\n\u001b[1;32m   1179\u001b[0m \u001b[43m    \u001b[49m\u001b[38;5;28;43mself\u001b[39;49m\u001b[38;5;241;43m.\u001b[39;49m\u001b[43m_parent_ident\u001b[49m\u001b[43m[\u001b[49m\u001b[38;5;124;43m\"\u001b[39;49m\u001b[38;5;124;43mshell\u001b[39;49m\u001b[38;5;124;43m\"\u001b[39;49m\u001b[43m]\u001b[49m\u001b[43m,\u001b[49m\n\u001b[1;32m   1180\u001b[0m \u001b[43m    \u001b[49m\u001b[38;5;28;43mself\u001b[39;49m\u001b[38;5;241;43m.\u001b[39;49m\u001b[43mget_parent\u001b[49m\u001b[43m(\u001b[49m\u001b[38;5;124;43m\"\u001b[39;49m\u001b[38;5;124;43mshell\u001b[39;49m\u001b[38;5;124;43m\"\u001b[39;49m\u001b[43m)\u001b[49m\u001b[43m,\u001b[49m\n\u001b[1;32m   1181\u001b[0m \u001b[43m    \u001b[49m\u001b[43mpassword\u001b[49m\u001b[38;5;241;43m=\u001b[39;49m\u001b[38;5;28;43;01mFalse\u001b[39;49;00m\u001b[43m,\u001b[49m\n\u001b[1;32m   1182\u001b[0m \u001b[43m\u001b[49m\u001b[43m)\u001b[49m\n",
      "File \u001b[0;32m/opt/homebrew/Caskroom/miniforge/base/envs/tensorflow/lib/python3.9/site-packages/ipykernel/kernelbase.py:1219\u001b[0m, in \u001b[0;36mKernel._input_request\u001b[0;34m(self, prompt, ident, parent, password)\u001b[0m\n\u001b[1;32m   1216\u001b[0m             \u001b[38;5;28;01mbreak\u001b[39;00m\n\u001b[1;32m   1217\u001b[0m \u001b[38;5;28;01mexcept\u001b[39;00m \u001b[38;5;167;01mKeyboardInterrupt\u001b[39;00m:\n\u001b[1;32m   1218\u001b[0m     \u001b[38;5;66;03m# re-raise KeyboardInterrupt, to truncate traceback\u001b[39;00m\n\u001b[0;32m-> 1219\u001b[0m     \u001b[38;5;28;01mraise\u001b[39;00m \u001b[38;5;167;01mKeyboardInterrupt\u001b[39;00m(\u001b[38;5;124m\"\u001b[39m\u001b[38;5;124mInterrupted by user\u001b[39m\u001b[38;5;124m\"\u001b[39m) \u001b[38;5;28;01mfrom\u001b[39;00m \u001b[38;5;28mNone\u001b[39m\n\u001b[1;32m   1220\u001b[0m \u001b[38;5;28;01mexcept\u001b[39;00m \u001b[38;5;167;01mException\u001b[39;00m:\n\u001b[1;32m   1221\u001b[0m     \u001b[38;5;28mself\u001b[39m\u001b[38;5;241m.\u001b[39mlog\u001b[38;5;241m.\u001b[39mwarning(\u001b[38;5;124m\"\u001b[39m\u001b[38;5;124mInvalid Message:\u001b[39m\u001b[38;5;124m\"\u001b[39m, exc_info\u001b[38;5;241m=\u001b[39m\u001b[38;5;28;01mTrue\u001b[39;00m)\n",
      "\u001b[0;31mKeyboardInterrupt\u001b[0m: Interrupted by user"
     ]
    }
   ],
   "source": [
    "for directory in os.listdir(LFW_DIR):\n",
    "    if directory == '.DS_Store':\n",
    "        continue\n",
    "    username = directory.replace('_', ' ')\n",
    "    gender = d.get_gender(username.split()[0])\n",
    "    _, _, files = next(os.walk(os.path.join(LFW_DIR, directory)))\n",
    "    file_count = len(files)\n",
    "    if gender == 'female' or gender == 'mostly_female':\n",
    "        female +=1\n",
    "        female_pictures += file_count\n",
    "    elif gender == 'male' or gender == 'mostly_male':\n",
    "        male +=1\n",
    "        male_pictures += file_count\n",
    "    elif gender == 'unknown' or gender == 'andy':\n",
    "        undeterminate +=1\n",
    "        undeterminate_pictures += file_count\n",
    "    else:\n",
    "        print('gender fail', gender)\n",
    "    #print(username, gender)\n",
    "    save_user_swipe(username, os.path.join(LFW_DIR, directory))"
   ]
  },
  {
   "cell_type": "code",
   "execution_count": 83,
   "id": "ee75bc43",
   "metadata": {},
   "outputs": [
    {
     "name": "stdout",
     "output_type": "stream",
     "text": [
      "females = 1574 female pictures = 3238 \n",
      "male = 4392 male pictures = 10360 \n",
      "undeterminate = 643 undeterminate pictures = 1317 \n",
      "total people = 6609 total pictures 14915\n"
     ]
    }
   ],
   "source": [
    "# Database info\n",
    "print('females =', female, 'female pictures =', female_pictures,\n",
    "      '\\nmale =', male, 'male pictures =', male_pictures,\n",
    "      '\\nundeterminate =', undeterminate, 'undeterminate pictures =', undeterminate_pictures,\n",
    "      '\\ntotal people =',\n",
    "      female + male + undeterminate,\n",
    "      'total pictures', \n",
    "      female_pictures + male_pictures + undeterminate_pictures\n",
    "     )"
   ]
  }
 ],
 "metadata": {
  "kernelspec": {
   "display_name": "Python [conda env:tensorflow] *",
   "language": "python",
   "name": "conda-env-tensorflow-py"
  },
  "language_info": {
   "codemirror_mode": {
    "name": "ipython",
    "version": 3
   },
   "file_extension": ".py",
   "mimetype": "text/x-python",
   "name": "python",
   "nbconvert_exporter": "python",
   "pygments_lexer": "ipython3",
   "version": "3.9.13"
  }
 },
 "nbformat": 4,
 "nbformat_minor": 5
}
